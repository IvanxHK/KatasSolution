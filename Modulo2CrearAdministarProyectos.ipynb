{
 "cells": [
  {
   "cell_type": "code",
   "execution_count": null,
   "metadata": {},
   "outputs": [],
   "source": [
    "##Realicé todos los comandos con éxito, \n",
    "# tuve errores al crear \"env\" pero solo \n",
    "# eran las diagonales inversas\n"
   ]
  }
 ],
 "metadata": {
  "language_info": {
   "name": "python"
  },
  "orig_nbformat": 4
 },
 "nbformat": 4,
 "nbformat_minor": 2
}
